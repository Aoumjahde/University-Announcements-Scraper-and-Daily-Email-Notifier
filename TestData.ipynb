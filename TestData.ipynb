{
 "cells": [
  {
   "cell_type": "code",
   "execution_count": 45,
   "metadata": {},
   "outputs": [],
   "source": [
    "from bs4 import BeautifulSoup\n",
    "import requests\n",
    "import pandas as pd\n",
    "import time\n",
    "from datetime import datetime, timedelta\n",
    "import smtplib\n",
    "from email.message import EmailMessage\n",
    "\n"
   ]
  },
  {
   "cell_type": "code",
   "execution_count": 46,
   "metadata": {},
   "outputs": [],
   "source": [
    "URL = 'http://fsa-am.uiz.ac.ma/announces.rb'\n",
    "\n",
    "responce = requests.get(URL)\n",
    "\n",
    "soup = BeautifulSoup(responce.text)\n"
   ]
  },
  {
   "cell_type": "code",
   "execution_count": 74,
   "metadata": {},
   "outputs": [],
   "source": [
    "def Announcesment_news():\n",
    "\n",
    "    Announces = soup.find_all('h6')\n",
    "    Announces_titles = [title.get_text() for title in Announces]\n",
    "    ALL_URLS = [url.a['href'] for url in Announces if url.a]\n",
    "\n",
    "    for _ in zip(Announces_titles, ALL_URLS): \n",
    "        body_msg = f'New Annonce: {Announces_titles[0]}\\nCheck it Now: {ALL_URLS[0]}'\n",
    "        email_alert(\"Mr. Aziz FSA-AM New Announcement! 😊\", body_msg,\"messageto_who@gmail.com\")#email that send msg to\n",
    "        break\n",
    "\n",
    "def email_alert(subject, body, to):\n",
    "    msg = EmailMessage()\n",
    "    msg.set_content(body)\n",
    "    msg['subject'] = subject\n",
    "    msg['to'] = to\n",
    "\n",
    "    user = \"youremail@gmail.com\" #email that send msg from\n",
    "    msg['from'] = user\n",
    "    email_pss = \"Email_AppKey\"\n",
    "\n",
    "    # Initialize the server\n",
    "    server = smtplib.SMTP(\"smtp.gmail.com\", 587)\n",
    "    server.starttls()\n",
    "    server.login(user, email_pss)\n",
    "    server.send_message(msg)\n",
    "    server.quit()\n",
    "\n",
    "if __name__ == '__main__':\n",
    "    Announcesment_news()"
   ]
  },
  {
   "cell_type": "code",
   "execution_count": 48,
   "metadata": {},
   "outputs": [],
   "source": [
    "# daily_time = datetime.strptime('20:00','%H:%H').time\n"
   ]
  },
  {
   "cell_type": "code",
   "execution_count": 49,
   "metadata": {},
   "outputs": [],
   "source": [
    "# while True:\n",
    "#     now = datetime.now()\n",
    "\n",
    "#     email_time = datetime.combine(now.date(), daily_time)\n",
    "\n",
    "#     if now.time() > daily_time:\n",
    "#         email_time += timedelta(days=1)\n",
    "\n",
    "#     run = (daily_time - now).total_seconds()\n",
    "\n",
    "#     time.sleep(run)\n",
    "\n",
    "#     Announcesment_news()\n",
    "\n",
    "\n",
    "    \n",
    "\n"
   ]
  },
  {
   "cell_type": "code",
   "execution_count": null,
   "metadata": {},
   "outputs": [],
   "source": []
  }
 ],
 "metadata": {
  "kernelspec": {
   "display_name": "Python 3",
   "language": "python",
   "name": "python3"
  },
  "language_info": {
   "codemirror_mode": {
    "name": "ipython",
    "version": 3
   },
   "file_extension": ".py",
   "mimetype": "text/x-python",
   "name": "python",
   "nbconvert_exporter": "python",
   "pygments_lexer": "ipython3",
   "version": "3.13.0"
  }
 },
 "nbformat": 4,
 "nbformat_minor": 2
}
